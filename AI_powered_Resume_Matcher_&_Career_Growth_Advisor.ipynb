{
  "nbformat": 4,
  "nbformat_minor": 0,
  "metadata": {
    "colab": {
      "provenance": [],
      "authorship_tag": "ABX9TyN3quR9tUYYF9R4Bc03fnWj",
      "include_colab_link": true
    },
    "kernelspec": {
      "name": "python3",
      "display_name": "Python 3"
    },
    "language_info": {
      "name": "python"
    }
  },
  "cells": [
    {
      "cell_type": "markdown",
      "metadata": {
        "id": "view-in-github",
        "colab_type": "text"
      },
      "source": [
        "<a href=\"https://colab.research.google.com/github/SnehaGhosh10/AI-career-advisor/blob/main/AI_powered_Resume_Matcher_%26_Career_Growth_Advisor.ipynb\" target=\"_parent\"><img src=\"https://colab.research.google.com/assets/colab-badge.svg\" alt=\"Open In Colab\"/></a>"
      ]
    },
    {
      "cell_type": "code",
      "execution_count": null,
      "metadata": {
        "colab": {
          "base_uri": "https://localhost:8080/"
        },
        "id": "_nloRTRoppJv",
        "outputId": "f3316954-4b39-48d1-fc48-eca90b6f6a1f"
      },
      "outputs": [
        {
          "output_type": "stream",
          "name": "stdout",
          "text": [
            "Requirement already satisfied: pymupdf in /usr/local/lib/python3.11/dist-packages (1.26.3)\n",
            "Requirement already satisfied: langchain in /usr/local/lib/python3.11/dist-packages (0.3.26)\n",
            "Requirement already satisfied: groq in /usr/local/lib/python3.11/dist-packages (0.29.0)\n",
            "Requirement already satisfied: langchain-core<1.0.0,>=0.3.66 in /usr/local/lib/python3.11/dist-packages (from langchain) (0.3.67)\n",
            "Requirement already satisfied: langchain-text-splitters<1.0.0,>=0.3.8 in /usr/local/lib/python3.11/dist-packages (from langchain) (0.3.8)\n",
            "Requirement already satisfied: langsmith>=0.1.17 in /usr/local/lib/python3.11/dist-packages (from langchain) (0.4.4)\n",
            "Requirement already satisfied: pydantic<3.0.0,>=2.7.4 in /usr/local/lib/python3.11/dist-packages (from langchain) (2.11.7)\n",
            "Requirement already satisfied: SQLAlchemy<3,>=1.4 in /usr/local/lib/python3.11/dist-packages (from langchain) (2.0.41)\n",
            "Requirement already satisfied: requests<3,>=2 in /usr/local/lib/python3.11/dist-packages (from langchain) (2.32.3)\n",
            "Requirement already satisfied: PyYAML>=5.3 in /usr/local/lib/python3.11/dist-packages (from langchain) (6.0.2)\n",
            "Requirement already satisfied: anyio<5,>=3.5.0 in /usr/local/lib/python3.11/dist-packages (from groq) (4.9.0)\n",
            "Requirement already satisfied: distro<2,>=1.7.0 in /usr/local/lib/python3.11/dist-packages (from groq) (1.9.0)\n",
            "Requirement already satisfied: httpx<1,>=0.23.0 in /usr/local/lib/python3.11/dist-packages (from groq) (0.28.1)\n",
            "Requirement already satisfied: sniffio in /usr/local/lib/python3.11/dist-packages (from groq) (1.3.1)\n",
            "Requirement already satisfied: typing-extensions<5,>=4.10 in /usr/local/lib/python3.11/dist-packages (from groq) (4.14.0)\n",
            "Requirement already satisfied: idna>=2.8 in /usr/local/lib/python3.11/dist-packages (from anyio<5,>=3.5.0->groq) (3.10)\n",
            "Requirement already satisfied: certifi in /usr/local/lib/python3.11/dist-packages (from httpx<1,>=0.23.0->groq) (2025.6.15)\n",
            "Requirement already satisfied: httpcore==1.* in /usr/local/lib/python3.11/dist-packages (from httpx<1,>=0.23.0->groq) (1.0.9)\n",
            "Requirement already satisfied: h11>=0.16 in /usr/local/lib/python3.11/dist-packages (from httpcore==1.*->httpx<1,>=0.23.0->groq) (0.16.0)\n",
            "Requirement already satisfied: tenacity!=8.4.0,<10.0.0,>=8.1.0 in /usr/local/lib/python3.11/dist-packages (from langchain-core<1.0.0,>=0.3.66->langchain) (8.5.0)\n",
            "Requirement already satisfied: jsonpatch<2.0,>=1.33 in /usr/local/lib/python3.11/dist-packages (from langchain-core<1.0.0,>=0.3.66->langchain) (1.33)\n",
            "Requirement already satisfied: packaging<25,>=23.2 in /usr/local/lib/python3.11/dist-packages (from langchain-core<1.0.0,>=0.3.66->langchain) (24.2)\n",
            "Requirement already satisfied: orjson<4.0.0,>=3.9.14 in /usr/local/lib/python3.11/dist-packages (from langsmith>=0.1.17->langchain) (3.10.18)\n",
            "Requirement already satisfied: requests-toolbelt<2.0.0,>=1.0.0 in /usr/local/lib/python3.11/dist-packages (from langsmith>=0.1.17->langchain) (1.0.0)\n",
            "Requirement already satisfied: zstandard<0.24.0,>=0.23.0 in /usr/local/lib/python3.11/dist-packages (from langsmith>=0.1.17->langchain) (0.23.0)\n",
            "Requirement already satisfied: annotated-types>=0.6.0 in /usr/local/lib/python3.11/dist-packages (from pydantic<3.0.0,>=2.7.4->langchain) (0.7.0)\n",
            "Requirement already satisfied: pydantic-core==2.33.2 in /usr/local/lib/python3.11/dist-packages (from pydantic<3.0.0,>=2.7.4->langchain) (2.33.2)\n",
            "Requirement already satisfied: typing-inspection>=0.4.0 in /usr/local/lib/python3.11/dist-packages (from pydantic<3.0.0,>=2.7.4->langchain) (0.4.1)\n",
            "Requirement already satisfied: charset-normalizer<4,>=2 in /usr/local/lib/python3.11/dist-packages (from requests<3,>=2->langchain) (3.4.2)\n",
            "Requirement already satisfied: urllib3<3,>=1.21.1 in /usr/local/lib/python3.11/dist-packages (from requests<3,>=2->langchain) (2.4.0)\n",
            "Requirement already satisfied: greenlet>=1 in /usr/local/lib/python3.11/dist-packages (from SQLAlchemy<3,>=1.4->langchain) (3.2.3)\n",
            "Requirement already satisfied: jsonpointer>=1.9 in /usr/local/lib/python3.11/dist-packages (from jsonpatch<2.0,>=1.33->langchain-core<1.0.0,>=0.3.66->langchain) (3.0.0)\n"
          ]
        }
      ],
      "source": [
        "!pip install pymupdf langchain groq\n"
      ]
    },
    {
      "cell_type": "code",
      "source": [
        "!pip install -q python-dotenv\n",
        "\n",
        "from dotenv import load_dotenv\n",
        "load_dotenv()"
      ],
      "metadata": {
        "colab": {
          "base_uri": "https://localhost:8080/"
        },
        "id": "IWJPuMbsqAiF",
        "outputId": "bd9fbf90-8b07-4016-e60e-7c9b525ba3b3"
      },
      "execution_count": null,
      "outputs": [
        {
          "output_type": "execute_result",
          "data": {
            "text/plain": [
              "True"
            ]
          },
          "metadata": {},
          "execution_count": 47
        }
      ]
    },
    {
      "cell_type": "code",
      "source": [
        "import os\n",
        "# Replace with your actual GROQ API key\n",
        "os.environ[\"GROQ_API_KEY\"] = groq_key"
      ],
      "metadata": {
        "id": "aR1tosDgqLA5"
      },
      "execution_count": null,
      "outputs": []
    },
    {
      "cell_type": "code",
      "metadata": {
        "id": "e25271ca"
      },
      "source": [
        "!pip install -q langchain-groq"
      ],
      "execution_count": null,
      "outputs": []
    },
    {
      "cell_type": "code",
      "source": [
        "from langchain_groq import ChatGroq\n",
        "\n",
        "llm_groq = ChatGroq(\n",
        "    model=\"llama3-8b-8192\",\n",
        "    temperature=0.1\n",
        ")\n"
      ],
      "metadata": {
        "id": "qq90dLRKqR8z"
      },
      "execution_count": null,
      "outputs": []
    },
    {
      "cell_type": "code",
      "metadata": {
        "colab": {
          "base_uri": "https://localhost:8080/"
        },
        "id": "22dfb988",
        "outputId": "5b71166f-0f76-4550-8080-a5fd69e1a805"
      },
      "source": [
        "!pip install -U langchain-community"
      ],
      "execution_count": null,
      "outputs": [
        {
          "output_type": "stream",
          "name": "stdout",
          "text": [
            "Requirement already satisfied: langchain-community in /usr/local/lib/python3.11/dist-packages (0.3.27)\n",
            "Requirement already satisfied: langchain-core<1.0.0,>=0.3.66 in /usr/local/lib/python3.11/dist-packages (from langchain-community) (0.3.67)\n",
            "Requirement already satisfied: langchain<1.0.0,>=0.3.26 in /usr/local/lib/python3.11/dist-packages (from langchain-community) (0.3.26)\n",
            "Requirement already satisfied: SQLAlchemy<3,>=1.4 in /usr/local/lib/python3.11/dist-packages (from langchain-community) (2.0.41)\n",
            "Requirement already satisfied: requests<3,>=2 in /usr/local/lib/python3.11/dist-packages (from langchain-community) (2.32.3)\n",
            "Requirement already satisfied: PyYAML>=5.3 in /usr/local/lib/python3.11/dist-packages (from langchain-community) (6.0.2)\n",
            "Requirement already satisfied: aiohttp<4.0.0,>=3.8.3 in /usr/local/lib/python3.11/dist-packages (from langchain-community) (3.11.15)\n",
            "Requirement already satisfied: tenacity!=8.4.0,<10,>=8.1.0 in /usr/local/lib/python3.11/dist-packages (from langchain-community) (8.5.0)\n",
            "Requirement already satisfied: dataclasses-json<0.7,>=0.5.7 in /usr/local/lib/python3.11/dist-packages (from langchain-community) (0.6.7)\n",
            "Requirement already satisfied: pydantic-settings<3.0.0,>=2.4.0 in /usr/local/lib/python3.11/dist-packages (from langchain-community) (2.10.1)\n",
            "Requirement already satisfied: langsmith>=0.1.125 in /usr/local/lib/python3.11/dist-packages (from langchain-community) (0.4.4)\n",
            "Requirement already satisfied: httpx-sse<1.0.0,>=0.4.0 in /usr/local/lib/python3.11/dist-packages (from langchain-community) (0.4.1)\n",
            "Requirement already satisfied: numpy>=1.26.2 in /usr/local/lib/python3.11/dist-packages (from langchain-community) (2.0.2)\n",
            "Requirement already satisfied: aiohappyeyeballs>=2.3.0 in /usr/local/lib/python3.11/dist-packages (from aiohttp<4.0.0,>=3.8.3->langchain-community) (2.6.1)\n",
            "Requirement already satisfied: aiosignal>=1.1.2 in /usr/local/lib/python3.11/dist-packages (from aiohttp<4.0.0,>=3.8.3->langchain-community) (1.3.2)\n",
            "Requirement already satisfied: attrs>=17.3.0 in /usr/local/lib/python3.11/dist-packages (from aiohttp<4.0.0,>=3.8.3->langchain-community) (25.3.0)\n",
            "Requirement already satisfied: frozenlist>=1.1.1 in /usr/local/lib/python3.11/dist-packages (from aiohttp<4.0.0,>=3.8.3->langchain-community) (1.7.0)\n",
            "Requirement already satisfied: multidict<7.0,>=4.5 in /usr/local/lib/python3.11/dist-packages (from aiohttp<4.0.0,>=3.8.3->langchain-community) (6.6.3)\n",
            "Requirement already satisfied: propcache>=0.2.0 in /usr/local/lib/python3.11/dist-packages (from aiohttp<4.0.0,>=3.8.3->langchain-community) (0.3.2)\n",
            "Requirement already satisfied: yarl<2.0,>=1.17.0 in /usr/local/lib/python3.11/dist-packages (from aiohttp<4.0.0,>=3.8.3->langchain-community) (1.20.1)\n",
            "Requirement already satisfied: marshmallow<4.0.0,>=3.18.0 in /usr/local/lib/python3.11/dist-packages (from dataclasses-json<0.7,>=0.5.7->langchain-community) (3.26.1)\n",
            "Requirement already satisfied: typing-inspect<1,>=0.4.0 in /usr/local/lib/python3.11/dist-packages (from dataclasses-json<0.7,>=0.5.7->langchain-community) (0.9.0)\n",
            "Requirement already satisfied: langchain-text-splitters<1.0.0,>=0.3.8 in /usr/local/lib/python3.11/dist-packages (from langchain<1.0.0,>=0.3.26->langchain-community) (0.3.8)\n",
            "Requirement already satisfied: pydantic<3.0.0,>=2.7.4 in /usr/local/lib/python3.11/dist-packages (from langchain<1.0.0,>=0.3.26->langchain-community) (2.11.7)\n",
            "Requirement already satisfied: jsonpatch<2.0,>=1.33 in /usr/local/lib/python3.11/dist-packages (from langchain-core<1.0.0,>=0.3.66->langchain-community) (1.33)\n",
            "Requirement already satisfied: packaging<25,>=23.2 in /usr/local/lib/python3.11/dist-packages (from langchain-core<1.0.0,>=0.3.66->langchain-community) (24.2)\n",
            "Requirement already satisfied: typing-extensions>=4.7 in /usr/local/lib/python3.11/dist-packages (from langchain-core<1.0.0,>=0.3.66->langchain-community) (4.14.0)\n",
            "Requirement already satisfied: httpx<1,>=0.23.0 in /usr/local/lib/python3.11/dist-packages (from langsmith>=0.1.125->langchain-community) (0.28.1)\n",
            "Requirement already satisfied: orjson<4.0.0,>=3.9.14 in /usr/local/lib/python3.11/dist-packages (from langsmith>=0.1.125->langchain-community) (3.10.18)\n",
            "Requirement already satisfied: requests-toolbelt<2.0.0,>=1.0.0 in /usr/local/lib/python3.11/dist-packages (from langsmith>=0.1.125->langchain-community) (1.0.0)\n",
            "Requirement already satisfied: zstandard<0.24.0,>=0.23.0 in /usr/local/lib/python3.11/dist-packages (from langsmith>=0.1.125->langchain-community) (0.23.0)\n",
            "Requirement already satisfied: python-dotenv>=0.21.0 in /usr/local/lib/python3.11/dist-packages (from pydantic-settings<3.0.0,>=2.4.0->langchain-community) (1.1.1)\n",
            "Requirement already satisfied: typing-inspection>=0.4.0 in /usr/local/lib/python3.11/dist-packages (from pydantic-settings<3.0.0,>=2.4.0->langchain-community) (0.4.1)\n",
            "Requirement already satisfied: charset-normalizer<4,>=2 in /usr/local/lib/python3.11/dist-packages (from requests<3,>=2->langchain-community) (3.4.2)\n",
            "Requirement already satisfied: idna<4,>=2.5 in /usr/local/lib/python3.11/dist-packages (from requests<3,>=2->langchain-community) (3.10)\n",
            "Requirement already satisfied: urllib3<3,>=1.21.1 in /usr/local/lib/python3.11/dist-packages (from requests<3,>=2->langchain-community) (2.4.0)\n",
            "Requirement already satisfied: certifi>=2017.4.17 in /usr/local/lib/python3.11/dist-packages (from requests<3,>=2->langchain-community) (2025.6.15)\n",
            "Requirement already satisfied: greenlet>=1 in /usr/local/lib/python3.11/dist-packages (from SQLAlchemy<3,>=1.4->langchain-community) (3.2.3)\n",
            "Requirement already satisfied: anyio in /usr/local/lib/python3.11/dist-packages (from httpx<1,>=0.23.0->langsmith>=0.1.125->langchain-community) (4.9.0)\n",
            "Requirement already satisfied: httpcore==1.* in /usr/local/lib/python3.11/dist-packages (from httpx<1,>=0.23.0->langsmith>=0.1.125->langchain-community) (1.0.9)\n",
            "Requirement already satisfied: h11>=0.16 in /usr/local/lib/python3.11/dist-packages (from httpcore==1.*->httpx<1,>=0.23.0->langsmith>=0.1.125->langchain-community) (0.16.0)\n",
            "Requirement already satisfied: jsonpointer>=1.9 in /usr/local/lib/python3.11/dist-packages (from jsonpatch<2.0,>=1.33->langchain-core<1.0.0,>=0.3.66->langchain-community) (3.0.0)\n",
            "Requirement already satisfied: annotated-types>=0.6.0 in /usr/local/lib/python3.11/dist-packages (from pydantic<3.0.0,>=2.7.4->langchain<1.0.0,>=0.3.26->langchain-community) (0.7.0)\n",
            "Requirement already satisfied: pydantic-core==2.33.2 in /usr/local/lib/python3.11/dist-packages (from pydantic<3.0.0,>=2.7.4->langchain<1.0.0,>=0.3.26->langchain-community) (2.33.2)\n",
            "Requirement already satisfied: mypy-extensions>=0.3.0 in /usr/local/lib/python3.11/dist-packages (from typing-inspect<1,>=0.4.0->dataclasses-json<0.7,>=0.5.7->langchain-community) (1.1.0)\n",
            "Requirement already satisfied: sniffio>=1.1 in /usr/local/lib/python3.11/dist-packages (from anyio->httpx<1,>=0.23.0->langsmith>=0.1.125->langchain-community) (1.3.1)\n"
          ]
        }
      ]
    },
    {
      "cell_type": "code",
      "source": [
        "from langchain.document_loaders import PyMuPDFLoader\n",
        "\n",
        "def load_pdf_text(pdf_path):\n",
        "    loader = PyMuPDFLoader(pdf_path)\n",
        "    return loader.load()[0].page_content"
      ],
      "metadata": {
        "id": "qcBuy30nqoma"
      },
      "execution_count": null,
      "outputs": []
    },
    {
      "cell_type": "code",
      "source": [
        "resume_text = load_pdf_text(\"Sneha_Ghosh_Resume.pdf\")\n",
        "jd_text = load_pdf_text(\"job_description_ai_ml.pdf\")"
      ],
      "metadata": {
        "id": "IoF3JYQuq_4Q"
      },
      "execution_count": null,
      "outputs": []
    },
    {
      "cell_type": "code",
      "source": [
        "from langchain.prompts import PromptTemplate\n",
        "from langchain.chains import LLMChain\n",
        "\n",
        "from langchain.prompts import PromptTemplate\n",
        "\n",
        "resume_prompt = PromptTemplate(\n",
        "    input_variables=[\"document\"],\n",
        "    template=\"\"\"\n",
        "You are an intelligent AI Resume Parser.\n",
        "\n",
        "Your task is to extract structured information from the candidate's resume.\n",
        "Strictly follow the output format and ensure the JSON is valid.\n",
        "\n",
        "From the resume content below, extract:\n",
        "\n",
        "1. Full Name\n",
        "2. Email Address\n",
        "3. Skills → Return as a list of strings\n",
        "4. Work Experience → A list of objects with:\n",
        "    - job_title\n",
        "    - company_name\n",
        "    - duration (e.g., \"Jan 2022 – May 2023\")\n",
        "5. Education → A list of objects with:\n",
        "    - degree\n",
        "    - university\n",
        "    - years (e.g., \"2022–2026\")\n",
        "\n",
        "If a field is missing, return an empty string or empty list.\n",
        "\n",
        " Important:\n",
        "- Return only valid JSON.\n",
        "- Do NOT include any extra commentary or markdown formatting.\n",
        "- Be concise but accurate.\n",
        "\n",
        "Resume Text:\n",
        "{document}\n",
        "\"\"\"\n",
        ")\n",
        "\n",
        "\n",
        "resume_chain = LLMChain(llm=llm_groq, prompt=resume_prompt)\n",
        "resume_json = resume_chain.run(document=resume_text)\n",
        "print(resume_json)"
      ],
      "metadata": {
        "colab": {
          "base_uri": "https://localhost:8080/"
        },
        "id": "MAHl1ucIr-44",
        "outputId": "3ee0c27a-b748-4349-f58e-726cd8cce36b"
      },
      "execution_count": null,
      "outputs": [
        {
          "output_type": "stream",
          "name": "stdout",
          "text": [
            "Here is the extracted information in the required format:\n",
            "\n",
            "```\n",
            "{\n",
            "  \"Full Name\": \"Sneha Ghosh\",\n",
            "  \"Email Address\": \"ghoshsneha203@gmail.com\",\n",
            "  \"Skills\": [\n",
            "    \"Python\",\n",
            "    \"Java\",\n",
            "    \"SQL\",\n",
            "    \"Pandas\",\n",
            "    \"NumPy\",\n",
            "    \"Matplotlib\",\n",
            "    \"Excel\",\n",
            "    \"DBMS\",\n",
            "    \"MySQL\",\n",
            "    \"Scikit-learn\",\n",
            "    \"TensorFlow\",\n",
            "    \"Keras\"\n",
            "  ],\n",
            "  \"Work Experience\": [\n",
            "    {\n",
            "      \"job_title\": null,\n",
            "      \"company_name\": null,\n",
            "      \"duration\": null\n",
            "    }\n",
            "  ],\n",
            "  \"Education\": [\n",
            "    {\n",
            "      \"degree\": \"BTech\",\n",
            "      \"university\": \"University of Engineering and management kolkata\",\n",
            "      \"years\": \"AUG 2022 – JULY 2026\"\n",
            "    }\n",
            "  ]\n",
            "}\n",
            "```\n",
            "\n",
            "Note that the \"Work Experience\" section is empty because there is no relevant information in the resume.\n"
          ]
        }
      ]
    },
    {
      "cell_type": "code",
      "source": [
        "jd_prompt = PromptTemplate(\n",
        "    input_variables=[\"document\"],\n",
        "    template=\"\"\"\n",
        "You are a smart AI Job Description (JD) parser.\n",
        "\n",
        "Extract structured information from the following job description text.\n",
        "\n",
        "Return a valid JSON with the following keys:\n",
        "\n",
        "1. \"role_title\" → Job title (e.g., \"AI/ML Engineer\", \"Data Analyst\")\n",
        "2. \"required_skills\" → List of core technical skills (e.g., [\"Python\", \"SQL\", \"TensorFlow\"])\n",
        "3. \"responsibilities\" → List of key responsibilities (concise bullet points)\n",
        "4. \"preferred_experience\" → List of qualifications or years of experience required or preferred\n",
        "\n",
        "Rules:\n",
        "- Use only the text provided.\n",
        "- Do NOT infer or guess.\n",
        "- Do NOT include explanations or markdown.\n",
        "- Return a clean, valid JSON only.\n",
        "\n",
        "Job Description:\n",
        "{document}\n",
        "\"\"\"\n",
        ")\n",
        "\n",
        "\n",
        "jd_chain = LLMChain(llm=llm_groq, prompt=jd_prompt)\n",
        "jd_json = jd_chain.run(document=jd_text)\n",
        "print(jd_json)\n"
      ],
      "metadata": {
        "colab": {
          "base_uri": "https://localhost:8080/"
        },
        "id": "vA8JzAMCsZ1K",
        "outputId": "d66e9a3a-bca5-46cb-cd60-169fcae7ef2d"
      },
      "execution_count": null,
      "outputs": [
        {
          "output_type": "stream",
          "name": "stdout",
          "text": [
            "Here is the extracted JSON:\n",
            "\n",
            "{\n",
            "\"role_title\": \"AI/ML Engineer or Data Analyst\",\n",
            "\"required_skills\": [\n",
            "\"Python\",\n",
            "\"Pandas\",\n",
            "\"NumPy\",\n",
            "\"scikit-learn\",\n",
            "\"TensorFlow\",\n",
            "\"PyTorch\",\n",
            "\"SQL\",\n",
            "\"Matplotlib\",\n",
            "\"Seaborn\",\n",
            "\"cloud platforms like AWS or GCP\"\n",
            "],\n",
            "\"responsibilities\": [\n",
            "\"Develop and deploy machine learning models for classification, regression, or clustering tasks.\",\n",
            "\"Analyze large datasets to derive actionable insights and build predictive analytics.\",\n",
            "\"Collaborate with data engineers to optimize data pipelines.\",\n",
            "\"Create dashboards and reports using tools like Tableau or Power BI.\",\n",
            "\"Communicate findings to business and technical stakeholders.\"\n",
            "],\n",
            "\"preferred_experience\": [\n",
            "\"2+ years of experience in data science or machine learning roles.\",\n",
            "\"Master's degree in Computer Science, Data Science, or related field.\",\n",
            "\"Knowledge of MLOps practices and deployment strategies.\"\n",
            "]\n",
            "}\n"
          ]
        }
      ]
    },
    {
      "cell_type": "code",
      "source": [
        "from langchain.prompts import PromptTemplate\n",
        "from langchain.chains import LLMChain\n",
        "\n",
        "compare_prompt = PromptTemplate(\n",
        "    input_variables=[\"resume_json\", \"jd_json\"],\n",
        "    template=\"\"\"\n",
        "You are an expert AI Career Advisor.\n",
        "\n",
        "Your job is to evaluate how well a candidate's resume matches a specific job description.\n",
        "\n",
        "Carefully analyze the following JSON inputs:\n",
        "\n",
        "- Resume JSON: {resume_json}\n",
        "- Job Description JSON: {jd_json}\n",
        "\n",
        "Evaluation Criteria:\n",
        "1. Skills Match: Compare technical and soft skills.\n",
        "2. Experience Alignment: Check if work experience matches JD expectations (years, tools, domain).\n",
        "3. Education Relevance: Evaluate if educational background meets the JD criteria.\n",
        "\n",
        "Your Tasks:\n",
        "- Calculate an overall `match_score` (0–100), based on skills, experience, and education.\n",
        "- Identify `missing_skills` that are in the JD but not in the resume.\n",
        "- Provide 2–4 actionable `recommendations` to improve the resume (e.g., add projects, list tools, get certifications).\n",
        "- Write personalized `feedback` summarizing strengths and gaps (2–4 sentences).\n",
        "\n",
        "Return ONLY a valid JSON object in this format:\n",
        "{{\n",
        "  \"match_score\": 0-100,\n",
        "  \"missing_skills\": [\"skill1\", \"skill2\", ...],\n",
        "  \"recommendations\": [\"tip1\", \"tip2\", ...],\n",
        "  \"feedback\": \"Short professional summary (2–4 sentences)\"\n",
        "}}\n",
        "\n",
        "Rules:\n",
        "- DO NOT include markdown, explanation, or extra text.\n",
        "- If all skills match, `missing_skills` should be an empty list.\n",
        "- Be realistic and helpful, not overly harsh or generic.\n",
        "\"\"\"\n",
        ")\n",
        "\n",
        "\n",
        "compare_chain = LLMChain(llm=llm_groq, prompt=compare_prompt)\n",
        "comparison_json = compare_chain.run(resume_json=resume_json, jd_json=jd_json)\n",
        "print(comparison_json)"
      ],
      "metadata": {
        "colab": {
          "base_uri": "https://localhost:8080/"
        },
        "id": "96kyfdGrssLM",
        "outputId": "2ed708ac-f035-4c6d-bed3-7c82241701fd"
      },
      "execution_count": null,
      "outputs": [
        {
          "output_type": "stream",
          "name": "stdout",
          "text": [
            "Here is the evaluation result:\n",
            "\n",
            "```\n",
            "{\n",
            "  \"match_score\": 60,\n",
            "  \"missing_skills\": [\"PyTorch\", \"Seaborn\", \"cloud platforms like AWS or GCP\"],\n",
            "  \"recommendations\": [\"Add projects showcasing AI/ML skills\", \"List specific tools used in work experience\", \"Consider obtaining certifications in AI/ML or data science\"],\n",
            "  \"feedback\": \"Sneha has a strong foundation in AI/ML skills, but lacks experience and certifications. She should focus on building a portfolio of projects and highlighting relevant tools to increase her chances of getting hired.\"\n",
            "}\n",
            "```\n"
          ]
        }
      ]
    },
    {
      "cell_type": "code",
      "source": [
        "import json\n",
        "import re\n",
        "\n",
        "\n",
        "json_match = re.search(r'\\{.*\\}', comparison_json, re.DOTALL)\n",
        "\n",
        "if json_match:\n",
        "    json_string = json_match.group(0)\n",
        "    parsed = json.loads(json_string)\n",
        "\n",
        "    missing_skills = parsed.get(\"missing_skills\", [])\n",
        "    learning_path = [f\"Take a course on {skill} (e.g., Coursera/Udemy)\" for skill in missing_skills]\n",
        "\n",
        "    parsed[\"learning_path\"] = learning_path\n",
        "\n",
        "    import pprint\n",
        "    pprint.pprint(parsed)\n",
        "else:\n",
        "    print(\"Could not find a JSON object in the output.\")"
      ],
      "metadata": {
        "colab": {
          "base_uri": "https://localhost:8080/"
        },
        "id": "ldRwJ3SWs6EZ",
        "outputId": "c23c377e-a46f-4732-bc8a-0ab50aa00560"
      },
      "execution_count": null,
      "outputs": [
        {
          "output_type": "stream",
          "name": "stdout",
          "text": [
            "{'feedback': 'Sneha has a strong foundation in AI/ML skills, but lacks '\n",
            "             'experience and certifications. She should focus on building a '\n",
            "             'portfolio of projects and highlighting relevant tools to '\n",
            "             'increase her chances of getting hired.',\n",
            " 'learning_path': ['Take a course on PyTorch (e.g., Coursera/Udemy)',\n",
            "                   'Take a course on Seaborn (e.g., Coursera/Udemy)',\n",
            "                   'Take a course on cloud platforms like AWS or GCP (e.g., '\n",
            "                   'Coursera/Udemy)'],\n",
            " 'match_score': 60,\n",
            " 'missing_skills': ['PyTorch', 'Seaborn', 'cloud platforms like AWS or GCP'],\n",
            " 'recommendations': ['Add projects showcasing AI/ML skills',\n",
            "                     'List specific tools used in work experience',\n",
            "                     'Consider obtaining certifications in AI/ML or data '\n",
            "                     'science']}\n"
          ]
        }
      ]
    },
    {
      "cell_type": "code",
      "source": [
        "with open(\"career_advice_report.json\", \"w\") as f:\n",
        "    json.dump(parsed, f, indent=2)\n"
      ],
      "metadata": {
        "id": "Mprt4I-DtS2J"
      },
      "execution_count": null,
      "outputs": []
    },
    {
      "cell_type": "code",
      "source": [
        "from google.colab import files\n",
        "files.download(\"career_advice_report.json\")"
      ],
      "metadata": {
        "colab": {
          "base_uri": "https://localhost:8080/",
          "height": 17
        },
        "id": "mztNAsYhtbKl",
        "outputId": "0219c7d6-8fae-482a-aa8e-04ba2d70d93b"
      },
      "execution_count": null,
      "outputs": [
        {
          "output_type": "display_data",
          "data": {
            "text/plain": [
              "<IPython.core.display.Javascript object>"
            ],
            "application/javascript": [
              "\n",
              "    async function download(id, filename, size) {\n",
              "      if (!google.colab.kernel.accessAllowed) {\n",
              "        return;\n",
              "      }\n",
              "      const div = document.createElement('div');\n",
              "      const label = document.createElement('label');\n",
              "      label.textContent = `Downloading \"${filename}\": `;\n",
              "      div.appendChild(label);\n",
              "      const progress = document.createElement('progress');\n",
              "      progress.max = size;\n",
              "      div.appendChild(progress);\n",
              "      document.body.appendChild(div);\n",
              "\n",
              "      const buffers = [];\n",
              "      let downloaded = 0;\n",
              "\n",
              "      const channel = await google.colab.kernel.comms.open(id);\n",
              "      // Send a message to notify the kernel that we're ready.\n",
              "      channel.send({})\n",
              "\n",
              "      for await (const message of channel.messages) {\n",
              "        // Send a message to notify the kernel that we're ready.\n",
              "        channel.send({})\n",
              "        if (message.buffers) {\n",
              "          for (const buffer of message.buffers) {\n",
              "            buffers.push(buffer);\n",
              "            downloaded += buffer.byteLength;\n",
              "            progress.value = downloaded;\n",
              "          }\n",
              "        }\n",
              "      }\n",
              "      const blob = new Blob(buffers, {type: 'application/binary'});\n",
              "      const a = document.createElement('a');\n",
              "      a.href = window.URL.createObjectURL(blob);\n",
              "      a.download = filename;\n",
              "      div.appendChild(a);\n",
              "      a.click();\n",
              "      div.remove();\n",
              "    }\n",
              "  "
            ]
          },
          "metadata": {}
        },
        {
          "output_type": "display_data",
          "data": {
            "text/plain": [
              "<IPython.core.display.Javascript object>"
            ],
            "application/javascript": [
              "download(\"download_5db70077-c804-4cbb-a7aa-fcebbce6295a\", \"career_advice_report.json\", 770)"
            ]
          },
          "metadata": {}
        }
      ]
    }
  ]
}